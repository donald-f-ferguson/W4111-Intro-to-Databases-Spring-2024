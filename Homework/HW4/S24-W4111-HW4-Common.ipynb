{
 "cells": [
  {
   "cell_type": "markdown",
   "id": "5773bc85",
   "metadata": {},
   "source": [
    "<style  type=\"text/css\">\n",
    "cool {\n",
    "  width: 100px;\n",
    "  height: 100px;\n",
    "  background-color: red;\n",
    "  position: relative;\n",
    "  -webkit-animation-name: example; /* Safari 4.0 - 8.0 */\n",
    "  -webkit-animation-duration: 4s; /* Safari 4.0 - 8.0 */\n",
    "  -webkit-animation-iteration-count: infinite; /* Safari 4.0 - 8.0 */\n",
    "  animation-name: example;\n",
    "  animation-duration: 4s;\n",
    "  animation-iteration-count: infinite;\n",
    "}\n",
    "\n",
    "loud {\n",
    "    font-size: 20pt;\n",
    "    }\n",
    "\n",
    "/* Safari 4.0 - 8.0 */\n",
    "@-webkit-keyframes example {\n",
    "  0%   {background-color:red; left:0px; top:0px;}\n",
    "  25%  {background-color:yellow; left:200px; top:0px;}\n",
    "  50%  {background-color:blue; left:200px; top:200px;}\n",
    "  75%  {background-color:green; left:0px; top:200px;}\n",
    "  100% {background-color:red; left:0px; top:0px;}\n",
    "}\n",
    "\n",
    "/* Standard syntax */\n",
    "@keyframes example {\n",
    "  0%   {background-color:red; left:0px; top:0px;}\n",
    "  25%  {background-color:yellow; left:200px; top:0px;}\n",
    "  50%  {background-color:blue; left:200px; top:200px;}\n",
    "  75%  {background-color:green; left:0px; top:200px;}\n",
    "  100% {background-color:red; left:0px; top:0px;}\n",
    "}\n",
    "</style>\n",
    "\n",
    "<b><center>\n",
    "<span style=\"font-size: 24pt; line-height: 1.2\">\n",
    "COMS W4111: Introduction to Databases<br>\n",
    "Spring 2024, Sections 002/V02\n",
    "</span>\n",
    "</center></b>\n",
    "<br>\n",
    "<p>\n",
    "<i><center>\n",
    "<span style=\"font-size: 20pt; line-height: 1.2\">\n",
    "Homework 4: Common<br>\n",
    "</span>\n",
    "</center></i>"
   ]
  },
  {
   "cell_type": "markdown",
   "id": "9bc3fc98",
   "metadata": {},
   "source": [
    "# Introduction\n",
    "\n",
    "- This notebook contains HW 4. **Both Programming and Nonprogramming tracks should complete this homework.**\n",
    "- You will submit **PDF and ZIP files** for this assignment. Gradescope will have two separate assignments for these.\n",
    "- For the PDF:\n",
    "    - The most reliable way to save as PDF is to go to your browser's menu bar and click `File -> Print`. Switch the orientation to landscape mode, and hit save.\n",
    "    - **MAKE SURE ALL YOUR WORK (CODE AND SCREENSHOTS) IS VISIBLE ON THE PDF. YOU WILL NOT GET CREDIT IF ANYTHING IS CUT OFF.** Reach out for troubleshooting.\n",
    "    - **MAKE SURE YOU DON'T SUBMIT A SINGLE PAGE PDF.** Your PDF should have multiple pages.\n",
    "- For the ZIP:\n",
    "    - Zip a folder containing this notebook and any screenshots.\n",
    "    - You may delete any unnecessary files, such as caches."
   ]
  },
  {
   "cell_type": "markdown",
   "id": "f487c2b6",
   "metadata": {},
   "source": [
    "# Setup"
   ]
  },
  {
   "cell_type": "code",
   "execution_count": null,
   "id": "46a7e3d1",
   "metadata": {},
   "outputs": [],
   "source": [
    "!pip install pymongo\n",
    "!pip install py2neo"
   ]
  },
  {
   "cell_type": "code",
   "execution_count": null,
   "id": "4ab5da77",
   "metadata": {},
   "outputs": [],
   "source": [
    "import pandas\n",
    "import py2neo\n",
    "import pymongo\n",
    "\n",
    "# TODO: Fill in with your Mongo URL\n",
    "mongo_url = \"\"\n",
    "mongo_client = pymongo.MongoClient(mongo_url)\n",
    "\n",
    "# TODO: Fill in with your Neo4j credentials\n",
    "neo4j_url = \"\"\n",
    "neo4j_password = \"\"\n",
    "# username is always \"neo4j\"\n",
    "graph = py2neo.Graph(neo4j_url, auth=(\"neo4j\", neo4j_password))\n",
    "\n",
    "def run_cypher(q):\n",
    "    return graph.run(q).to_table()"
   ]
  },
  {
   "cell_type": "markdown",
   "id": "85be6c99",
   "metadata": {},
   "source": [
    "<hr style=\"height:2px;\">"
   ]
  },
  {
   "cell_type": "markdown",
   "id": "d94a5db3",
   "metadata": {},
   "source": [
    "# Written Questions\n",
    "\n",
    "- As usual, do not bloviate"
   ]
  },
  {
   "cell_type": "markdown",
   "id": "fd164cc5",
   "metadata": {},
   "source": [
    "## W1\n",
    "\n",
    "Explain the following concepts:\n",
    "\n",
    "1. Clustering index\n",
    "2. Nonclustering index\n",
    "3. Sparse index\n",
    "4. Dense index\n",
    "\n",
    "\n",
    "_Answer_"
   ]
  },
  {
   "cell_type": "markdown",
   "id": "7c6ea2a8",
   "metadata": {},
   "source": [
    "## W2\n",
    "\n",
    "Explain why nonclustering indexes must be dense.\n",
    "\n",
    "\n",
    "_Answer_"
   ]
  },
  {
   "cell_type": "markdown",
   "id": "f1cdac86",
   "metadata": {},
   "source": [
    "## W3\n",
    "\n",
    "Suppose that, in a table containing information about Columbia classes, the columns `class_code`, `semester`, and `year` are queried frequently **individually**. Would putting a composite index on `(class_code, semester, year)` be a good idea? Why or why not?\n",
    "\n",
    "\n",
    "_Answer_"
   ]
  },
  {
   "cell_type": "markdown",
   "id": "646005a0",
   "metadata": {},
   "source": [
    "## W4\n",
    "\n",
    "Explain the following concepts:\n",
    "\n",
    "1. Hash index\n",
    "2. B+ tree index\n",
    "\n",
    "\n",
    "_Answer_"
   ]
  },
  {
   "cell_type": "markdown",
   "id": "d5bd1854",
   "metadata": {},
   "source": [
    "## W5\n",
    "\n",
    "Give one advantage and one disadvantage of hash indexes compared to B+ tree indexes.\n",
    "\n",
    "\n",
    "_Answer_"
   ]
  },
  {
   "cell_type": "markdown",
   "id": "a85b968a",
   "metadata": {},
   "source": [
    "## W6\n",
    "\n",
    "Explain the role of the buffer in a DBMS. Why doesn't the DBMS simply load the entire database in its buffer?\n",
    "\n",
    "\n",
    "_Answer_"
   ]
  },
  {
   "cell_type": "markdown",
   "id": "3244e0a1",
   "metadata": {},
   "source": [
    "## W7\n",
    "\n",
    "Explain the following concepts as they relate to buffer replacement policies:\n",
    "\n",
    "1. Clairvoyant algorithm\n",
    "2. Least recently used strategy\n",
    "3. Most recently used strategy\n",
    "4. Clock algorithm\n",
    "\n",
    "\n",
    "_Answer_"
   ]
  },
  {
   "cell_type": "markdown",
   "id": "31276a5c",
   "metadata": {},
   "source": [
    "## W8\n",
    "\n",
    "NoSQL databases have become increasingly popular for applications. List 3 benefits of using NoSQL databases over SQL ones.\n",
    "\n",
    "\n",
    "_Answer_"
   ]
  },
  {
   "cell_type": "markdown",
   "id": "82dc01ff",
   "metadata": {},
   "source": [
    "## W9\n",
    "\n",
    "Explain the concept between impedance mismatch and how it relates to SQL vs. NoSQL databases.\n",
    "\n",
    "\n",
    "_Answer_"
   ]
  },
  {
   "cell_type": "markdown",
   "id": "4f625a83",
   "metadata": {},
   "source": [
    "## W10\n",
    "\n",
    "The relationship between students and courses is many-to-many. Due to its emphasis on atomicity, modeling this relationship in a relational database would require an associative entity. Explain how this relationship could be modeled in\n",
    "\n",
    "1. A document database, such as MongoDB\n",
    "2. A graph database, such as Neo4j\n",
    "\n",
    "\n",
    "_Answer_"
   ]
  },
  {
   "cell_type": "markdown",
   "id": "c75317a5",
   "metadata": {},
   "source": [
    "<hr style=\"height:2px;\">"
   ]
  },
  {
   "cell_type": "markdown",
   "id": "5a13f0e4",
   "metadata": {},
   "source": [
    "# MongoDB\n",
    "\n",
    "- The cell below creates a database `w4111`, then a cluster `episodes` inside `w4111`. It then inserts GoT episode data into the cluster."
   ]
  },
  {
   "cell_type": "code",
   "execution_count": null,
   "id": "563211a7",
   "metadata": {},
   "outputs": [],
   "source": [
    "import json\n",
    "\n",
    "with open(\"episodes.json\") as f:\n",
    "    data = json.load(f)\n",
    "\n",
    "episodes = mongo_client[\"w4111\"][\"episodes\"]    \n",
    "episodes.drop()\n",
    "episodes.insert_many(data)\n",
    "print(\"Successfully inserted episode data\")"
   ]
  },
  {
   "cell_type": "markdown",
   "id": "eeeb5e2d",
   "metadata": {},
   "source": [
    "## M1\n",
    "\n",
    "- Write and execute a query that shows episodes and the number of scenes they contain\n",
    "- Your aggregation should have the following attributes:\n",
    "    - `episodeTitle`\n",
    "    - `seasonNum`\n",
    "    - `episodeNum`\n",
    "    - `numScenes`, which is the length of the episode's `scenes` array\n",
    "- Order your output on `numScenes` descending, and only keep episodes with more than 100 scenes"
   ]
  },
  {
   "cell_type": "code",
   "execution_count": null,
   "id": "dd4173d4",
   "metadata": {},
   "outputs": [],
   "source": [
    "res = episodes.aggregate(\n",
    "    # TODO: Put your query here\n",
    ")\n",
    "\n",
    "pandas.DataFrame(list(res))"
   ]
  },
  {
   "cell_type": "markdown",
   "id": "6d69e2e8",
   "metadata": {},
   "source": [
    "## M2\n",
    "\n",
    "- Write and execute a query that shows the first three episodes for each season\n",
    "- Your aggregation should have the following attributes:\n",
    "    - `seasonNum`\n",
    "    - `firstThreeEpisodes`, which is an array that contains the titles of the first, second, and third episodes (in that order) of the season\n",
    "- Order your output on `seasonNum` ascending\n",
    "    - It's okay if the `firstThreeEpisodes` column is a bit truncated by the dataframe"
   ]
  },
  {
   "cell_type": "code",
   "execution_count": null,
   "id": "3fcfcda6",
   "metadata": {},
   "outputs": [],
   "source": [
    "res = episodes.aggregate(\n",
    "    # TODO: Put your query here\n",
    ")\n",
    "\n",
    "pandas.DataFrame(list(res))"
   ]
  },
  {
   "cell_type": "markdown",
   "id": "065799a6",
   "metadata": {},
   "source": [
    "## M3\n",
    "\n",
    "- Write and execute a query that shows statistics about each season\n",
    "- Your aggregation should have the following attributes:\n",
    "    - `seasonNum`\n",
    "    - `numEpisodes`, which is the number of episodes in the season\n",
    "    - `startDate`, which is the earliest date associated with an episode in the season\n",
    "    - `endDate`, which is the latest date associated with an episode in the season\n",
    "    - `shortestEpisodeLength`\n",
    "    - `longestEpisodeLength`\n",
    "        - The length of an episode is the greatest `sceneEnd` value in the episode's `scenes` array\n",
    "- Order your output on `seasonNum` ascending"
   ]
  },
  {
   "cell_type": "code",
   "execution_count": null,
   "id": "5975797e",
   "metadata": {},
   "outputs": [],
   "source": [
    "res = episodes.aggregate(\n",
    "    # TODO: Put your query here\n",
    ")\n",
    "\n",
    "pandas.DataFrame(list(res))"
   ]
  },
  {
   "cell_type": "markdown",
   "id": "fb79a4f3",
   "metadata": {},
   "source": [
    "## M4\n",
    "\n",
    "- Write and execute a query that shows sublocations and the scenes they appear in\n",
    "- Your aggregation should have the following attributes:\n",
    "    - `subLocation`\n",
    "    - `totalScenes`, which is the number of scenes that are set in the sublocation\n",
    "    - `firstSeasonNum`\n",
    "    - `firstEpisodeNum`\n",
    "        - `(firstSeasonNum, firstEpisodeNum)` identifies the first episode that the sublocation appeared in\n",
    "    - `lastSeasonNum`\n",
    "    - `lastEpisodeNum`\n",
    "        - `(lastSeasonNum, lastEpisodeNum)` identifies the last episode that the sublocation appeared in\n",
    "- Order your output on `totalScenes` descending, and only keep the sublocations with more than 50 scenes"
   ]
  },
  {
   "cell_type": "code",
   "execution_count": null,
   "id": "32790f08",
   "metadata": {},
   "outputs": [],
   "source": [
    "res = episodes.aggregate(\n",
    "    # TODO: Put your query here\n",
    ")\n",
    "\n",
    "pandas.DataFrame(list(res))"
   ]
  },
  {
   "cell_type": "markdown",
   "id": "120bab19",
   "metadata": {},
   "source": [
    "<hr style=\"height:2px;\">"
   ]
  },
  {
   "cell_type": "markdown",
   "id": "7f3cd0a7",
   "metadata": {},
   "source": [
    "# Neo4j\n",
    "\n",
    "- The cell below creates nodes and relationships that model movies and the people involved in them"
   ]
  },
  {
   "cell_type": "code",
   "execution_count": null,
   "id": "e45c74d0",
   "metadata": {},
   "outputs": [],
   "source": [
    "with open(\"movies.txt\") as f:\n",
    "    queries = str(f.read())\n",
    "\n",
    "run_cypher(\"match (n) detach delete n\")\n",
    "run_cypher(queries)\n",
    "print(\"Successfully inserted movie data\")"
   ]
  },
  {
   "cell_type": "markdown",
   "id": "2b403348",
   "metadata": {},
   "source": [
    "## N1\n",
    "\n",
    "- Write and execute a cypher that shows actors and the number of movies they appear in\n",
    "    - You should focus only on the `ACTED_IN` relationship, no other relationship\n",
    "- Your output should have the following attributes:\n",
    "    - `name`, which is the name of the actor\n",
    "    - `num_movies`\n",
    "- Order your output on `num_movies` descending"
   ]
  },
  {
   "cell_type": "code",
   "execution_count": null,
   "id": "8481716f",
   "metadata": {},
   "outputs": [],
   "source": [
    "run_cypher(\"\"\"\n",
    "    TODO: Put your query here\n",
    "\"\"\")"
   ]
  },
  {
   "cell_type": "markdown",
   "id": "8134e83c",
   "metadata": {},
   "source": [
    "## N2\n",
    "\n",
    "- Write and execute a cypher that shows people and movies they either acted in or directed\n",
    "- Your output should have the following attributes:\n",
    "    - `name`, which is the name of the person\n",
    "    - `directed_movies`, which is an array of titles of movies that the person directed\n",
    "    - `acted_in_movies`, which is an array of titles of movies that the person acted in\n",
    "- Order your output on `name` ascending, and only keep people that have directed at least one movie **and** acted in at least one movie (i.e., there should be no empty arrays. Arrays with one element are fine.)"
   ]
  },
  {
   "cell_type": "code",
   "execution_count": null,
   "id": "a7969df0",
   "metadata": {},
   "outputs": [],
   "source": [
    "run_cypher(\"\"\"\n",
    "    TODO: Put your query here\n",
    "\"\"\")"
   ]
  },
  {
   "cell_type": "markdown",
   "id": "cdbfb170",
   "metadata": {},
   "source": [
    "## N3\n",
    "\n",
    "- Write and execute a cypher that shows people and movies they both acted in and directed\n",
    "- Your output should have the following attributes:\n",
    "    - `name`, which is the name of the person\n",
    "    - `acted_in_and_directed_movies`, which is an array of titles of movies that the person both acted in and directed\n",
    "- Order your output on `name` ascending, and only keep people that have acted in at least one movie that they directed (i.e., there should be no empty arrays. Arrays with one element are fine.)"
   ]
  },
  {
   "cell_type": "code",
   "execution_count": null,
   "id": "56c6dd94",
   "metadata": {},
   "outputs": [],
   "source": [
    "run_cypher(\"\"\"\n",
    "    TODO: Put your query here\n",
    "\"\"\")"
   ]
  },
  {
   "cell_type": "markdown",
   "id": "d0606600",
   "metadata": {},
   "source": [
    "## N4\n",
    "\n",
    "- Write and execute a cypher that shows pairs of people and how closely connected they are\n",
    "- Your output should have the following attributes:\n",
    "    - `person_1_name`, which is the name of the first person in the pair\n",
    "    - `person_2_name`, which is the name of the second person in the pair\n",
    "    - `num_people_between`, which is the number of people (including the pair itself) separating the pair. You should use the `shortestPath` function to compute this.\n",
    "- To prevent duplicates in your output, you should only keep rows where `person_1_name < person_2_name`\n",
    "- Order your output on `(person_1_name, person_2_name)`, and only keep rows where `num_people_between > 5`\n",
    "\n",
    "\n",
    "- As an example, you should get the following row in your output:\n",
    "\n",
    "| person_1_name | person_2_name | num_people_between |\n",
    "|---------------|---------------|--------------------|\n",
    "| Billy Crystal | Paul Blythe   | 6                  |\n",
    "\n",
    "- The shortest path between Billy Crystal and Paul Blythe is shown below\n",
    "    - `num_people_between` is 6 because there are 6 nodes marked as `Person` (including Billy's and Paul's nodes)\n",
    "\n",
    "<img src=\"./N4-example.png\">"
   ]
  },
  {
   "cell_type": "code",
   "execution_count": null,
   "id": "0d4497c5",
   "metadata": {},
   "outputs": [],
   "source": [
    "run_cypher(\"\"\"\n",
    "    TODO: Put your query here\n",
    "\"\"\")"
   ]
  },
  {
   "cell_type": "code",
   "execution_count": null,
   "id": "5e01a5d7",
   "metadata": {},
   "outputs": [],
   "source": []
  }
 ],
 "metadata": {
  "kernelspec": {
   "display_name": "Python 3 (ipykernel)",
   "language": "python",
   "name": "python3"
  },
  "language_info": {
   "codemirror_mode": {
    "name": "ipython",
    "version": 3
   },
   "file_extension": ".py",
   "mimetype": "text/x-python",
   "name": "python",
   "nbconvert_exporter": "python",
   "pygments_lexer": "ipython3",
   "version": "3.9.7"
  }
 },
 "nbformat": 4,
 "nbformat_minor": 5
}
